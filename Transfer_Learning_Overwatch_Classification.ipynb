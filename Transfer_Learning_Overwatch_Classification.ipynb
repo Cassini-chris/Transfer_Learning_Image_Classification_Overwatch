{
  "nbformat": 4,
  "nbformat_minor": 0,
  "metadata": {
    "accelerator": "GPU",
    "colab": {
      "name": "Transfer Learning - Overwatch Classification.ipynb",
      "private_outputs": true,
      "provenance": [],
      "collapsed_sections": [],
      "toc_visible": true,
      "include_colab_link": true
    },
    "kernelspec": {
      "display_name": "Python 3",
      "name": "python3"
    }
  },
  "cells": [
    {
      "cell_type": "markdown",
      "metadata": {
        "id": "view-in-github",
        "colab_type": "text"
      },
      "source": [
        "<a href=\"https://colab.research.google.com/github/Cassini-chris/Transfer_Learning_Image_Classification_Overwatch/blob/main/Transfer_Learning_Overwatch_Classification.ipynb\" target=\"_parent\"><img src=\"https://colab.research.google.com/assets/colab-badge.svg\" alt=\"Open In Colab\"/></a>"
      ]
    },
    {
      "cell_type": "markdown",
      "metadata": {
        "id": "zF9uvbXNVrVY"
      },
      "source": [
        "## Import packages"
      ]
    },
    {
      "cell_type": "code",
      "metadata": {
        "id": "L1WtoaOHVrVh"
      },
      "source": [
        "import tensorflow as tf\n",
        "from tensorflow.keras.models import Sequential\n",
        "from tensorflow.keras.layers import Dense, Conv2D, Flatten, Dropout, MaxPooling2D\n",
        "from tensorflow.keras.preprocessing.image import ImageDataGenerator\n",
        "import numpy as np\n",
        "import matplotlib.pyplot as plt\n",
        "import os\n",
        "import zipfile\n",
        "import random\n",
        "from shutil import copyfile"
      ],
      "execution_count": null,
      "outputs": []
    },
    {
      "cell_type": "code",
      "metadata": {
        "id": "d7eldBaeVC2D"
      },
      "source": [
        "#Check current directory\n",
        "!pwd\n",
        "#Go to directory\n",
        "os.chdir('/tmp')\n",
        "!pwd\n",
        "\n",
        "#Remove Folder\n",
        "!rm -rf overwatch\n",
        "!rm -rf SOURCE_DATA"
      ],
      "execution_count": null,
      "outputs": []
    },
    {
      "cell_type": "code",
      "metadata": {
        "id": "VRlalNAwyA87"
      },
      "source": [
        "#PARAMETERS\n",
        "IMG_HEIGHT = 224\n",
        "IMG_WIDTH = 224"
      ],
      "execution_count": null,
      "outputs": []
    },
    {
      "cell_type": "markdown",
      "metadata": {
        "id": "UZZI6lNkVrVm"
      },
      "source": [
        "## Load data"
      ]
    },
    {
      "cell_type": "code",
      "metadata": {
        "id": "C1nqr-CYY6uw"
      },
      "source": [
        "#Mount Google Drive\n",
        "from google.colab import drive\n",
        "drive.mount('/content/gdrive')\n",
        "\n",
        "#--- Input --- Location of ZIP File\n",
        "ZIP_FILE = '/content/gdrive/My Drive/__TECH/_My Flask Apps/Overwatch_data/Overwatch_data.zip'\n",
        "FOLDER_NAME = 'SOURCE_DATA/'\n",
        "UNZIP_DIR = '/tmp/'+ FOLDER_NAME\n",
        "\n",
        "#Read & Unzip .zip file in the directory in UNZIP_DIR\n",
        "zip_ref = zipfile.ZipFile(ZIP_FILE, 'r')\n",
        "zip_ref.extractall(UNZIP_DIR)\n",
        "zip_ref.close()\n",
        "\n",
        "#Declare path__\n",
        "PATH = UNZIP_DIR\n",
        "print(PATH)"
      ],
      "execution_count": null,
      "outputs": []
    },
    {
      "cell_type": "code",
      "metadata": {
        "id": "uN58ANpy2IZ8"
      },
      "source": [
        "overwatch_heros = ['tracer', 'reaper', 'widowmaker', 'pharah', 'reinhardt', 'mercy', 'torbjörn', 'hanzo', 'winston', 'zenyatta', 'bastion', 'symmetra', 'zarya', 'mccree', 'soldier76', 'lucio', 'roadhog', 'junkrat', 'dva', 'mei', 'genji', 'ana', 'sombra', 'orisa', 'doomfist', 'moira', 'brigitte', 'wreckingball', 'ashe', 'baptiste', 'sigma', 'echo']\n",
        "\n",
        "try:\n",
        "    os.mkdir('/tmp/overwatch')\n",
        "    os.mkdir('/tmp/overwatch/training')\n",
        "    os.mkdir('/tmp/overwatch/testing')\n",
        "except OSError:\n",
        "    pass\n",
        "\n",
        "for hero in overwatch_heros:\n",
        "  try:\n",
        "    os.mkdir('/tmp/overwatch/training/'+hero)\n",
        "    os.mkdir('/tmp/overwatch/testing/'+hero)\n",
        "  except OSError:\n",
        "    pass"
      ],
      "execution_count": null,
      "outputs": []
    },
    {
      "cell_type": "code",
      "metadata": {
        "id": "cmrhyFYHsnVH"
      },
      "source": [
        " def split_data(SOURCE, TRAINING, TESTING, SPLIT_SIZE):\n",
        "    files = []\n",
        "    for filename in os.listdir(SOURCE):\n",
        "        file = SOURCE + filename\n",
        "        if os.path.getsize(file) > 0:\n",
        "            files.append(filename)\n",
        "        else:\n",
        "            print(filename + \" is zero length, so ignoring.\")\n",
        "\n",
        "    training_length = int(len(files) * SPLIT_SIZE)\n",
        "    testing_length = int(len(files) - training_length)\n",
        "    shuffled_set = random.sample(files, len(files))\n",
        "    training_set = shuffled_set[0:training_length]\n",
        "    testing_set = shuffled_set[-testing_length:]\n",
        "\n",
        "    for filename in training_set:\n",
        "        this_file = SOURCE + filename\n",
        "        destination = TRAINING + filename\n",
        "        copyfile(this_file, destination)\n",
        "\n",
        "    for filename in testing_set:\n",
        "        this_file = SOURCE + filename\n",
        "        destination = TESTING + filename\n",
        "        copyfile(this_file, destination)\n",
        "\n",
        "split_size = 0.9\n",
        "\n",
        "for hero in overwatch_heros:\n",
        "  split_data(PATH + hero + \"/\", '/tmp/overwatch/training/'+hero+\"/\",  '/tmp/overwatch/testing/'+hero+\"/\", split_size)\n",
        "  print(\"TRAINING: \" + hero +': '+ str(len(os.listdir('/tmp/overwatch/training/'+hero))))\n",
        "  print(\"TESTING: \" + hero +': '+ str(len(os.listdir('/tmp/overwatch/testing/'+hero))) + '\\n')"
      ],
      "execution_count": null,
      "outputs": []
    },
    {
      "cell_type": "code",
      "metadata": {
        "id": "sRucI3QqVrVy"
      },
      "source": [
        "train_dir = os.path.join('/tmp/overwatch/', 'training')\n",
        "validation_dir = os.path.join('/tmp/overwatch/', 'testing')"
      ],
      "execution_count": null,
      "outputs": []
    },
    {
      "cell_type": "markdown",
      "metadata": {
        "id": "INn-cOn1VrWC"
      },
      "source": [
        "## Data preparation"
      ]
    },
    {
      "cell_type": "code",
      "metadata": {
        "id": "syDdF_LWVrWE"
      },
      "source": [
        "train_image_generator = ImageDataGenerator( rescale=1./255,\n",
        "                                            rotation_range=40,\n",
        "                                            width_shift_range=0.2,\n",
        "                                            height_shift_range=0.2,\n",
        "                                            shear_range=0.2,\n",
        "                                            zoom_range=0.2,\n",
        "                                            horizontal_flip=True,\n",
        "                                            fill_mode='nearest') # Generator for our training data\n",
        "\n",
        "validation_image_generator = ImageDataGenerator(rescale=1./255,\n",
        "                                                rotation_range=40,\n",
        "                                                width_shift_range=0.2,\n",
        "                                                height_shift_range=0.2,\n",
        "                                                shear_range=0.2,\n",
        "                                                zoom_range=0.2,\n",
        "                                                horizontal_flip=True,\n",
        "                                                fill_mode='nearest') # Generator for our validation data"
      ],
      "execution_count": null,
      "outputs": []
    },
    {
      "cell_type": "code",
      "metadata": {
        "id": "Pw94ajOOVrWI"
      },
      "source": [
        "train_data_gen = train_image_generator.flow_from_directory(directory=train_dir,\n",
        "                                                              batch_size= 10,\n",
        "                                                              shuffle=True,\n",
        "                                                              target_size=(IMG_HEIGHT, IMG_WIDTH),\n",
        "                                                              class_mode='categorical')"
      ],
      "execution_count": null,
      "outputs": []
    },
    {
      "cell_type": "code",
      "metadata": {
        "id": "2oUoKUzRVrWM"
      },
      "source": [
        "val_data_gen = validation_image_generator.flow_from_directory(directory=validation_dir,\n",
        "                                                              batch_size= 10,\n",
        "                                                              shuffle=True,\n",
        "                                                              target_size=(IMG_HEIGHT, IMG_WIDTH),\n",
        "                                                              class_mode='categorical')"
      ],
      "execution_count": null,
      "outputs": []
    },
    {
      "cell_type": "code",
      "metadata": {
        "id": "h5gJ656-8rDE"
      },
      "source": [
        "labels = (train_data_gen.class_indices)\n",
        "labels = dict((v,k) for k,v in labels.items())\n",
        "print(labels)"
      ],
      "execution_count": null,
      "outputs": []
    },
    {
      "cell_type": "markdown",
      "metadata": {
        "id": "hyexPJ8CVrWP"
      },
      "source": [
        "### Visualize training images"
      ]
    },
    {
      "cell_type": "code",
      "metadata": {
        "id": "3f0Z7NZgVrWQ"
      },
      "source": [
        "sample_training_images, _ = next(train_data_gen)"
      ],
      "execution_count": null,
      "outputs": []
    },
    {
      "cell_type": "code",
      "metadata": {
        "id": "JMt2RES_VrWU"
      },
      "source": [
        "# This function will plot images in the form of a grid with 1 row and 5 columns where images are placed in each column.\n",
        "def plotImages(images_arr):\n",
        "    fig, axes = plt.subplots(1, 5, figsize=(20,20))\n",
        "    axes = axes.flatten()\n",
        "    for img, ax in zip( images_arr, axes):\n",
        "        ax.imshow(img)\n",
        "        ax.axis('off')\n",
        "    plt.tight_layout()\n",
        "    plt.show()"
      ],
      "execution_count": null,
      "outputs": []
    },
    {
      "cell_type": "code",
      "metadata": {
        "id": "d_VVg_gEVrWW"
      },
      "source": [
        "plotImages(sample_training_images[:5])"
      ],
      "execution_count": null,
      "outputs": []
    },
    {
      "cell_type": "markdown",
      "metadata": {
        "id": "b5Ej-HLGVrWZ"
      },
      "source": [
        "## Create the model"
      ]
    },
    {
      "cell_type": "code",
      "metadata": {
        "id": "s3AXPgOS9lDo"
      },
      "source": [
        "IMG_SHAPE = (224, 224, 3)\n",
        "\n",
        "# Create the base model from the pre-trained model MobileNet V2\n",
        "base_model = tf.keras.applications.MobileNetV2(input_shape=IMG_SHAPE,\n",
        "                                               include_top=False,\n",
        "                                               weights='imagenet')"
      ],
      "execution_count": null,
      "outputs": []
    },
    {
      "cell_type": "code",
      "metadata": {
        "id": "YjkkwsUU-eMF"
      },
      "source": [
        "base_model.trainable = False\n",
        "#base_model.summary()"
      ],
      "execution_count": null,
      "outputs": []
    },
    {
      "cell_type": "code",
      "metadata": {
        "id": "J1gh-foO-47M"
      },
      "source": [
        "global_average_layer = tf.keras.layers.GlobalAveragePooling2D()\n",
        "prediction_layer = tf.keras.layers.Dense(units = 32, input_shape = (520,), activation='softmax')\n",
        "\n",
        "model = tf.keras.Sequential([\n",
        "  base_model,\n",
        "  global_average_layer,\n",
        "  prediction_layer\n",
        "])\n",
        "\n",
        "model.summary()"
      ],
      "execution_count": null,
      "outputs": []
    },
    {
      "cell_type": "code",
      "metadata": {
        "id": "6Mg7_TXOVrWd"
      },
      "source": [
        "model.compile(optimizer='adam',\n",
        "              loss='categorical_crossentropy',\n",
        "              metrics=['accuracy'])"
      ],
      "execution_count": null,
      "outputs": []
    },
    {
      "cell_type": "markdown",
      "metadata": {
        "id": "N06iqE8VVrWj"
      },
      "source": [
        "## Train  model"
      ]
    },
    {
      "cell_type": "code",
      "metadata": {
        "id": "KSF2HqhDVrWk"
      },
      "source": [
        "history = model.fit(\n",
        "    train_data_gen,\n",
        "    #steps_per_epoch=4,\n",
        "\n",
        "    batch_size=500,\n",
        "    epochs=30,\n",
        "\n",
        "    validation_data=val_data_gen,\n",
        "    #validation_steps=2\n",
        "    \n",
        "    verbose=1,\n",
        ")"
      ],
      "execution_count": null,
      "outputs": []
    },
    {
      "cell_type": "markdown",
      "metadata": {
        "id": "ojJNteAGVrWo"
      },
      "source": [
        "### Visualize training results"
      ]
    },
    {
      "cell_type": "markdown",
      "metadata": {
        "id": "LZPYT-EmVrWo"
      },
      "source": [
        "Now visualize the results after training the network."
      ]
    },
    {
      "cell_type": "code",
      "metadata": {
        "id": "K6oA77ADVrWp"
      },
      "source": [
        "acc = history.history['accuracy']\n",
        "val_acc = history.history['val_accuracy']\n",
        "\n",
        "loss=history.history['loss']\n",
        "val_loss=history.history['val_loss']\n",
        "\n",
        "epochs_range = range(30)\n",
        "\n",
        "plt.figure(figsize=(8, 8))\n",
        "plt.subplot(1, 2, 1)\n",
        "plt.plot(epochs_range, acc, label='Training Accuracy')\n",
        "plt.plot(epochs_range, val_acc, label='Validation Accuracy')\n",
        "plt.legend(loc='lower right')\n",
        "plt.title('Training and Validation Accuracy')\n",
        "\n",
        "plt.subplot(1, 2, 2)\n",
        "plt.plot(epochs_range, loss, label='Training Loss')\n",
        "plt.plot(epochs_range, val_loss, label='Validation Loss')\n",
        "plt.legend(loc='upper right')\n",
        "plt.title('Training and Validation Loss')\n",
        "plt.show()"
      ],
      "execution_count": null,
      "outputs": []
    },
    {
      "cell_type": "code",
      "metadata": {
        "id": "YPrJgO6IlqMC"
      },
      "source": [
        "#model.save('disney_model_2.h5')"
      ],
      "execution_count": null,
      "outputs": []
    },
    {
      "cell_type": "code",
      "metadata": {
        "id": "JKHfevtPRETb"
      },
      "source": [
        "#Test Random Image \n",
        "image_path = \"/content/gdrive/My Drive/__TECH/_My Flask Apps/Overwatch_data/RANDOM\"\n",
        "\n",
        "def loadImages(path):\n",
        "    image_file = sorted([os.path.join(path, file)\n",
        "                          for file in os.listdir(path )\n",
        "                          if file.endswith(('.jpg','.png'))])\n",
        "    return image_file\n",
        "\n",
        "image_list = loadImages(image_path)\n",
        "\n",
        "path = np.array(image_list)\n",
        "path_string = (path[2])\n",
        "\n",
        "img = tf.io.read_file(path_string)\n",
        "img = tf.image.decode_jpeg(img, channels=3)\n",
        "img = tf.image.convert_image_dtype(img, tf.float32)\n",
        "final_img = tf.image.resize(img, [IMG_WIDTH, IMG_HEIGHT])\n",
        "\n",
        "plt.subplot(121), plt.imshow(final_img)"
      ],
      "execution_count": null,
      "outputs": []
    },
    {
      "cell_type": "code",
      "metadata": {
        "id": "5Yuw675ZwZX2"
      },
      "source": [
        "#Expand Tensor for Model (Input shape)\n",
        "y = np.expand_dims(final_img, axis=0)\n",
        "\n",
        "#Predict Image Tensor with model\n",
        "prediction = model.predict(y)\n",
        "prediction_squeeze = np.squeeze(prediction, axis=0)\n",
        "\n",
        "label_array = np.array(labels)\n",
        "\n",
        "#print(type(label))\n",
        "for key, value in labels.items():\n",
        "    real_label = prediction_squeeze[key]\n",
        "    \n",
        "    print (\"{0:.0%}\".format(real_label), value)"
      ],
      "execution_count": null,
      "outputs": []
    },
    {
      "cell_type": "code",
      "metadata": {
        "id": "1CqZCU1y89OE"
      },
      "source": [
        "#predictions = [labels[k] for k in predicted_class_indices]"
      ],
      "execution_count": null,
      "outputs": []
    }
  ]
}